{
 "cells": [
  {
   "cell_type": "code",
   "execution_count": null,
   "metadata": {},
   "outputs": [],
   "source": [
    "%reload_ext autoreload\n",
    "%autoreload 2\n",
    "%matplotlib inline"
   ]
  },
  {
   "cell_type": "code",
   "execution_count": null,
   "metadata": {},
   "outputs": [],
   "source": [
    "import numpy as np\n",
    "from pathlib import Path\n",
    "import matplotlib.pyplot as plt"
   ]
  },
  {
   "cell_type": "code",
   "execution_count": null,
   "metadata": {},
   "outputs": [],
   "source": [
    "from independent_vector_analysis.visualization import plot_scv_covs"
   ]
  },
  {
   "cell_type": "code",
   "execution_count": null,
   "metadata": {},
   "outputs": [],
   "source": [
    "from robust_subgroup_identification.visualization import individual_rho\n",
    "from robust_subgroup_identification.subgroup_identification import cluster_datasets"
   ]
  },
  {
   "cell_type": "markdown",
   "metadata": {},
   "source": [
    "# Plot SCV covariance matrices"
   ]
  },
  {
   "cell_type": "code",
   "execution_count": null,
   "metadata": {},
   "outputs": [],
   "source": [
    "rho = 0.2\n",
    "cov = np.load(f'../simulations/scv_cov_rho{rho}.npy', allow_pickle=True)\n",
    "labels = [r'$\\mathbf{C}_' + str(idx+1) + '$' for idx in range(cov.shape[2])]\n",
    "plot_scv_covs(cov, n_cols=3, labels=labels)\n"
   ]
  },
  {
   "cell_type": "markdown",
   "metadata": {},
   "source": [
    "# Plot ground truth SCVs and clusters fora single run"
   ]
  },
  {
   "cell_type": "code",
   "execution_count": null,
   "metadata": {},
   "outputs": [],
   "source": [
    "rho = 0.8"
   ]
  },
  {
   "cell_type": "code",
   "execution_count": null,
   "metadata": {},
   "outputs": [],
   "source": [
    "results = np.load(f'../simulations/rho{rho}_run1.npy', allow_pickle=True).item()"
   ]
  },
  {
   "cell_type": "code",
   "execution_count": null,
   "metadata": {},
   "outputs": [],
   "source": [
    "plot_scv_covs(results['true']['scv_cov'])"
   ]
  },
  {
   "cell_type": "code",
   "execution_count": null,
   "metadata": {
    "scrolled": false
   },
   "outputs": [],
   "source": [
    "cluster_datasets(results['true']['S'], 3, 1000, 0.05, labels=np.arange(10))"
   ]
  },
  {
   "cell_type": "markdown",
   "metadata": {},
   "source": [
    "# Plot average performance for different rho"
   ]
  },
  {
   "cell_type": "code",
   "execution_count": null,
   "metadata": {},
   "outputs": [],
   "source": [
    "P_d_b = []\n",
    "P_d_g = []\n",
    "P_d_e = []\n",
    "\n",
    "rho_list = [0.2, 0.5, 0.8]\n",
    "for rho in rho_list:\n",
    "    results = np.load(f'../simulations/metrics_rho{rho}.npy', allow_pickle=True).item()\n",
    "    P_d_b.append(np.mean(results['p_d']['bootstrap'],axis=0))\n",
    "    P_d_e.append(np.mean(results['p_d']['eigval'],axis=0))\n",
    "    P_d_g.append(np.mean(results['p_d']['gershgorin'],axis=0))\n",
    "    \n",
    "individual_rho(P_d_b, P_d_e, P_d_g, rho_list, sharey=False)"
   ]
  },
  {
   "cell_type": "code",
   "execution_count": null,
   "metadata": {},
   "outputs": [],
   "source": [
    "rho_list = [0.2, 0.5, 0.8]\n",
    "\n",
    "mu_b = []\n",
    "mu_e = []\n",
    "mu_g = []\n",
    "for rho in rho_list:\n",
    "    results = np.load(f'../simulations/metrics_rho{rho}.npy', allow_pickle=True).item()\n",
    "    mu_b.append(np.mean(results['d_hat']['bootstrap'], axis=0))\n",
    "    mu_e.append(np.mean(results['d_hat']['eigval'], axis=0))\n",
    "    mu_g.append(np.mean(results['d_hat']['gershgorin'], axis=0))\n",
    "\n",
    "fig, ax = plt.subplots(nrows=1, ncols=2, sharex=True)\n",
    "ax[0].plot(rho_list, np.array(mu_b)[:,3],'o-', color='C0', fillstyle='none', label=r'$\\mu_{\\widehat{d}_4}$ (BT)')\n",
    "ax[0].plot(rho_list, np.array(mu_e)[:,3],'^--', color='C0', fillstyle='none', label=r'$\\mu_{\\widehat{d}_4}$ (EV)')\n",
    "ax[0].plot(rho_list, np.array(mu_g)[:,3],'s:', color='C0', fillstyle='none', label=r'$\\mu_{\\widehat{d}_4}$ (GD)')\n",
    "ax[1].plot(rho_list, np.array(mu_b)[:,4],'o-', color='C1', fillstyle='none', label=r'$\\mu_{\\widehat{d}_5}$ (BT)')\n",
    "ax[1].plot(rho_list, np.array(mu_e)[:,4],'^--', color='C1', fillstyle='none', label=r'$\\mu_{\\widehat{d}_5}$ (EV)')\n",
    "ax[1].plot(rho_list, np.array(mu_g)[:,4],'s:', color='C1', fillstyle='none', label=r'$\\mu_{\\widehat{d}_5}$ (GD)')\n",
    "\n",
    "ax[0].set_xlabel(r'$\\rho$')\n",
    "ax[0].set_xticks(rho_list)\n",
    "ax[0].set_yticks([0,1,2,3, 4],[0,1,r'$d_4=2$',3, 4])\n",
    "ax[0].set_ylim([0,5])\n",
    "ax[0].grid(axis='y')\n",
    "\n",
    "ax[1].set_xlabel(r'$\\rho$')\n",
    "ax[1].set_xticks(rho_list)\n",
    "ax[1].set_yticks([0,1,2,3, 4],[0,1,2, r'$d_5=3$', 4])\n",
    "ax[1].set_ylim([0,5])\n",
    "ax[1].grid(axis='y')\n",
    "\n",
    "# common legend\n",
    "handles, labels = [(a + b) for a, b in zip(ax[0].get_legend_handles_labels(), ax[1].get_legend_handles_labels())]\n",
    "ax[1].legend(handles, labels, loc='center left', bbox_to_anchor=(1.05, 0.5))\n"
   ]
  },
  {
   "cell_type": "code",
   "execution_count": null,
   "metadata": {},
   "outputs": [],
   "source": [
    "# print clustering performance\n",
    "\n",
    "rho_list = [0.2, 0.5, 0.8]\n",
    "\n",
    "c_b = []\n",
    "# mu_e = []\n",
    "for rho in rho_list:\n",
    "    results = np.load(f'../simulations/metrics_rho{rho}.npy', allow_pickle=True).item()\n",
    "    c_b.append(np.mean(results['clustering']))\n",
    "\n",
    "print(f'Clustering using bootstrap: {c_b}')"
   ]
  },
  {
   "cell_type": "code",
   "execution_count": null,
   "metadata": {},
   "outputs": [],
   "source": []
  }
 ],
 "metadata": {
  "kernelspec": {
   "display_name": "robustsubgroupidentification",
   "language": "python",
   "name": "robustsubgroupidentification"
  },
  "language_info": {
   "codemirror_mode": {
    "name": "ipython",
    "version": 3
   },
   "file_extension": ".py",
   "mimetype": "text/x-python",
   "name": "python",
   "nbconvert_exporter": "python",
   "pygments_lexer": "ipython3",
   "version": "3.11.3"
  }
 },
 "nbformat": 4,
 "nbformat_minor": 4
}
